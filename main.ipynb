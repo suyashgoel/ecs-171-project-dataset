{
 "cells": [
  {
   "cell_type": "code",
   "execution_count": 3,
   "metadata": {},
   "outputs": [
    {
     "name": "stdout",
     "output_type": "stream",
     "text": [
      "Skipping 2018_DONNELL_daily.shp due to error: Unable to open California_spread_2012_2021/2018_DONNELL_daily.shx or California_spread_2012_2021/2018_DONNELL_daily.SHX. Set SHAPE_RESTORE_SHX config option to YES to restore or create it.\n"
     ]
    }
   ],
   "source": [
    "import geopandas as gpd\n",
    "import pandas as pd\n",
    "import os\n",
    "from pyogrio.errors import DataSourceError\n",
    "\n",
    "polygon_data = []\n",
    "for root, dirs, files in os.walk(\"California_spread_2012_2021\"):\n",
    "    for file in files:\n",
    "        if file.endswith(\".shp\"):\n",
    "            path = os.path.join(root, file)\n",
    "            try:\n",
    "                gdf = gpd.read_file(path)\n",
    "                fire_name = file.split('_')[1]\n",
    "                if fire_name[0].isdigit():\n",
    "                    fire_name += \" BUTTE LIGHTNING COMPLEX\"\n",
    "                gdf[\"FIRE_NAME\"] = fire_name\n",
    "                if gdf.geom_type.iloc[0] in ['Polygon', 'MultiPolygon']:\n",
    "                    polygon_data.append(gdf)\n",
    "            except (DataSourceError, OSError) as e:\n",
    "                print(f\"Skipping {file} due to error: {e}\")\n",
    "all_polygons = pd.concat(polygon_data, ignore_index=True)\n"
   ]
  },
  {
   "cell_type": "code",
   "execution_count": 4,
   "metadata": {},
   "outputs": [
    {
     "data": {
      "text/html": [
       "<div>\n",
       "<style scoped>\n",
       "    .dataframe tbody tr th:only-of-type {\n",
       "        vertical-align: middle;\n",
       "    }\n",
       "\n",
       "    .dataframe tbody tr th {\n",
       "        vertical-align: top;\n",
       "    }\n",
       "\n",
       "    .dataframe thead th {\n",
       "        text-align: right;\n",
       "    }\n",
       "</style>\n",
       "<table border=\"1\" class=\"dataframe\">\n",
       "  <thead>\n",
       "    <tr style=\"text-align: right;\">\n",
       "      <th></th>\n",
       "      <th>DOY</th>\n",
       "      <th>YYYYMMDD</th>\n",
       "      <th>YEAR</th>\n",
       "      <th>geometry</th>\n",
       "      <th>FIRE_NAME</th>\n",
       "    </tr>\n",
       "  </thead>\n",
       "  <tbody>\n",
       "    <tr>\n",
       "      <th>0</th>\n",
       "      <td>194.429167</td>\n",
       "      <td>2012/07/12</td>\n",
       "      <td>2012.0</td>\n",
       "      <td>POLYGON ((-281464.336 313901.232, -281074.358 ...</td>\n",
       "      <td>FLAT</td>\n",
       "    </tr>\n",
       "    <tr>\n",
       "      <th>1</th>\n",
       "      <td>195.412500</td>\n",
       "      <td>2012/07/13</td>\n",
       "      <td>2012.0</td>\n",
       "      <td>POLYGON ((-281863.736 314087.809, -281775.435 ...</td>\n",
       "      <td>FLAT</td>\n",
       "    </tr>\n",
       "    <tr>\n",
       "      <th>2</th>\n",
       "      <td>196.400000</td>\n",
       "      <td>2012/07/14</td>\n",
       "      <td>2012.0</td>\n",
       "      <td>POLYGON ((-281863.736 314087.809, -281775.435 ...</td>\n",
       "      <td>FLAT</td>\n",
       "    </tr>\n",
       "    <tr>\n",
       "      <th>3</th>\n",
       "      <td>197.458333</td>\n",
       "      <td>2012/07/15</td>\n",
       "      <td>2012.0</td>\n",
       "      <td>POLYGON ((-281863.736 314087.809, -281775.435 ...</td>\n",
       "      <td>FLAT</td>\n",
       "    </tr>\n",
       "    <tr>\n",
       "      <th>4</th>\n",
       "      <td>198.445833</td>\n",
       "      <td>2012/07/16</td>\n",
       "      <td>2012.0</td>\n",
       "      <td>POLYGON ((-281863.736 314087.809, -281775.435 ...</td>\n",
       "      <td>FLAT</td>\n",
       "    </tr>\n",
       "    <tr>\n",
       "      <th>...</th>\n",
       "      <td>...</td>\n",
       "      <td>...</td>\n",
       "      <td>...</td>\n",
       "      <td>...</td>\n",
       "      <td>...</td>\n",
       "    </tr>\n",
       "    <tr>\n",
       "      <th>5843</th>\n",
       "      <td>233.366667</td>\n",
       "      <td>2017/08/21</td>\n",
       "      <td>2017.0</td>\n",
       "      <td>POLYGON ((151858.082 -194367.345, 151930.248 -...</td>\n",
       "      <td>INDIAN</td>\n",
       "    </tr>\n",
       "    <tr>\n",
       "      <th>5844</th>\n",
       "      <td>301.433333</td>\n",
       "      <td>2020/10/27</td>\n",
       "      <td>2020.0</td>\n",
       "      <td>POLYGON ((-43140.77 109645.363, -42563.604 109...</td>\n",
       "      <td>POINT</td>\n",
       "    </tr>\n",
       "    <tr>\n",
       "      <th>5845</th>\n",
       "      <td>302.420833</td>\n",
       "      <td>2020/10/28</td>\n",
       "      <td>2020.0</td>\n",
       "      <td>POLYGON ((-43140.77 109645.363, -42594.098 110...</td>\n",
       "      <td>POINT</td>\n",
       "    </tr>\n",
       "    <tr>\n",
       "      <th>5846</th>\n",
       "      <td>221.383333</td>\n",
       "      <td>2013/08/09</td>\n",
       "      <td>2013.0</td>\n",
       "      <td>POLYGON ((219442.362 -405575.085, 219835.763 -...</td>\n",
       "      <td>SHARP</td>\n",
       "    </tr>\n",
       "    <tr>\n",
       "      <th>5847</th>\n",
       "      <td>222.437500</td>\n",
       "      <td>2013/08/10</td>\n",
       "      <td>2013.0</td>\n",
       "      <td>POLYGON ((219442.362 -405575.085, 219835.763 -...</td>\n",
       "      <td>SHARP</td>\n",
       "    </tr>\n",
       "  </tbody>\n",
       "</table>\n",
       "<p>5848 rows × 5 columns</p>\n",
       "</div>"
      ],
      "text/plain": [
       "             DOY    YYYYMMDD    YEAR  \\\n",
       "0     194.429167  2012/07/12  2012.0   \n",
       "1     195.412500  2012/07/13  2012.0   \n",
       "2     196.400000  2012/07/14  2012.0   \n",
       "3     197.458333  2012/07/15  2012.0   \n",
       "4     198.445833  2012/07/16  2012.0   \n",
       "...          ...         ...     ...   \n",
       "5843  233.366667  2017/08/21  2017.0   \n",
       "5844  301.433333  2020/10/27  2020.0   \n",
       "5845  302.420833  2020/10/28  2020.0   \n",
       "5846  221.383333  2013/08/09  2013.0   \n",
       "5847  222.437500  2013/08/10  2013.0   \n",
       "\n",
       "                                               geometry FIRE_NAME  \n",
       "0     POLYGON ((-281464.336 313901.232, -281074.358 ...      FLAT  \n",
       "1     POLYGON ((-281863.736 314087.809, -281775.435 ...      FLAT  \n",
       "2     POLYGON ((-281863.736 314087.809, -281775.435 ...      FLAT  \n",
       "3     POLYGON ((-281863.736 314087.809, -281775.435 ...      FLAT  \n",
       "4     POLYGON ((-281863.736 314087.809, -281775.435 ...      FLAT  \n",
       "...                                                 ...       ...  \n",
       "5843  POLYGON ((151858.082 -194367.345, 151930.248 -...    INDIAN  \n",
       "5844  POLYGON ((-43140.77 109645.363, -42563.604 109...     POINT  \n",
       "5845  POLYGON ((-43140.77 109645.363, -42594.098 110...     POINT  \n",
       "5846  POLYGON ((219442.362 -405575.085, 219835.763 -...     SHARP  \n",
       "5847  POLYGON ((219442.362 -405575.085, 219835.763 -...     SHARP  \n",
       "\n",
       "[5848 rows x 5 columns]"
      ]
     },
     "execution_count": 4,
     "metadata": {},
     "output_type": "execute_result"
    }
   ],
   "source": [
    "all_polygons"
   ]
  },
  {
   "cell_type": "code",
   "execution_count": 5,
   "metadata": {},
   "outputs": [
    {
     "data": {
      "text/plain": [
       "FIRE_NAME\n",
       "RED SALMON COMPLEX    97\n",
       "BLUEJAY               86\n",
       "CASCADE               84\n",
       "DIXIE                 84\n",
       "LIONS                 80\n",
       "                      ..\n",
       "DOBBYN 1-57            2\n",
       "ANGORA                 2\n",
       "GEORGES                2\n",
       "HAYNES                 2\n",
       "SHARP                  2\n",
       "Name: count, Length: 421, dtype: int64"
      ]
     },
     "execution_count": 5,
     "metadata": {},
     "output_type": "execute_result"
    }
   ],
   "source": [
    "all_polygons['FIRE_NAME'].value_counts()\n"
   ]
  },
  {
   "cell_type": "code",
   "execution_count": 6,
   "metadata": {},
   "outputs": [],
   "source": [
    "all_polygons.to_csv('all_polygons.csv', index=False)"
   ]
  }
 ],
 "metadata": {
  "kernelspec": {
   "display_name": "myenv",
   "language": "python",
   "name": "python3"
  },
  "language_info": {
   "codemirror_mode": {
    "name": "ipython",
    "version": 3
   },
   "file_extension": ".py",
   "mimetype": "text/x-python",
   "name": "python",
   "nbconvert_exporter": "python",
   "pygments_lexer": "ipython3",
   "version": "3.10.15"
  }
 },
 "nbformat": 4,
 "nbformat_minor": 2
}
